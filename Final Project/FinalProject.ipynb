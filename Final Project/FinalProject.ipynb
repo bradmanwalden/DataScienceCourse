{
 "cells": [
  {
   "cell_type": "markdown",
   "metadata": {},
   "source": [
    "Where to move in London?\n",
    "=======\n",
    "![London](https://cdn.londonandpartners.com/-/media/images/london/visit/general-london/towerbridgecopyrightvisitlondoncomantoinebuchet.jpg?mw=1920&hash=B6672601055B38B34C592E0160B0445AA063B876https://cdn.londonandpartners.com/-/media/images/london/visit/general-london/towerbridgecopyrightvisitlondoncomantoinebuchet.jpg\n",
    " \"London\")\n",
    "\n",
    "\n",
    "### A helpful guide to deciphering London's 33 borough's, and which one is right for you\n",
    "\n",
    "---"
   ]
  },
  {
   "cell_type": "markdown",
   "metadata": {},
   "source": [
    "# Introduction\n",
    "### What problem am I trying to solve?\n",
    "\n",
    "London is one of the world's most international and multicultural cities. It is extremely diverse, and thus it varies a lot. London has 32 boroughs plus the \"City of London\", making it sometimes very confusing to decide where to live. With this guide, I hope to provide clear and simple information, through data science, that will give people the information they need about London."
   ]
  },
  {
   "cell_type": "markdown",
   "metadata": {},
   "source": [
    "# Data\n",
    "\n",
    "## Where am I going to get data?\n",
    "\n",
    "I have found many data sources, including the London Data Store which provides vast amounts of data about London's boroughs, such as population, diversity, education and much more. I have also found a GeoJSON data source, which I will use to generate heat maps of London.\n",
    "\n",
    "Lastly I will of course use Foursquare's Location Data, to gain access to information more related to the culture in each area, rather than just statistics about each borough."
   ]
  }
 ],
 "metadata": {
  "language_info": {
   "codemirror_mode": {
    "name": "ipython",
    "version": 3
   },
   "file_extension": ".py",
   "mimetype": "text/x-python",
   "name": "python",
   "nbconvert_exporter": "python",
   "pygments_lexer": "ipython3",
   "version": 3
  },
  "orig_nbformat": 2
 },
 "nbformat": 4,
 "nbformat_minor": 2
}